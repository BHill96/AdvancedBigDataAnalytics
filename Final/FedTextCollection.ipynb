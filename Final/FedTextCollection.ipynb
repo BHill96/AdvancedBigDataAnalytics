{
 "cells": [
  {
   "cell_type": "code",
   "execution_count": null,
   "metadata": {},
   "outputs": [],
   "source": [
    "#https://www.federalreserve.gov/boarddocs/press/general/2000/20000202/"
   ]
  },
  {
   "cell_type": "markdown",
   "metadata": {},
   "source": [
    "'''\n",
    "author: Yaxin(Grace Li)\n",
    "'''"
   ]
  },
  {
   "cell_type": "code",
   "execution_count": 4,
   "metadata": {},
   "outputs": [],
   "source": [
    "from urllib.request import urlopen\n",
    "from bs4 import BeautifulSoup"
   ]
  },
  {
   "cell_type": "code",
   "execution_count": 1,
   "metadata": {},
   "outputs": [],
   "source": [
    "y2000 = [\"https://www.federalreserve.gov/boarddocs/press/general/2000/20000321/\",\n",
    "     \"https://www.federalreserve.gov/boarddocs/press/general/2000/20000202/\",\n",
    "     \"https://www.federalreserve.gov/boarddocs/press/general/2000/20000516/\",\n",
    "    \"https://www.federalreserve.gov/boarddocs/press/general/2000/20000516/\",\n",
    "    \"https://www.federalreserve.gov/boarddocs/press/general/2000/20000628/\",\n",
    "    \"https://www.federalreserve.gov/boarddocs/press/general/2000/20000822/\",\n",
    "    \"https://www.federalreserve.gov/boarddocs/press/general/2000/20001003/\",\n",
    "    \"https://www.federalreserve.gov/boarddocs/press/general/2000/20001115/\",\n",
    "    \"https://www.federalreserve.gov/boarddocs/press/general/2000/20001219/\"]\n"
   ]
  },
  {
   "cell_type": "code",
   "execution_count": 2,
   "metadata": {},
   "outputs": [],
   "source": [
    "y2001 = [\"https://www.federalreserve.gov/boarddocs/press/general/2001/20010103/\",\n",
    "       \"https://www.federalreserve.gov/boarddocs/press/general/2001/20010131/\",\n",
    "       \"https://www.federalreserve.gov/boarddocs/press/general/2001/20010320/\",\n",
    "       \"https://www.federalreserve.gov/boarddocs/press/general/2001/20010418/\",\n",
    "       \"https://www.federalreserve.gov/boarddocs/press/general/2001/20010515/\",\n",
    "       \"https://www.federalreserve.gov/boarddocs/press/general/2001/20010627/\",\n",
    "       \"https://www.federalreserve.gov/boarddocs/press/general/2001/20010821/\",\n",
    "       \"https://www.federalreserve.gov/boarddocs/press/general/2001/20010917/\",\n",
    "       \"https://www.federalreserve.gov/boarddocs/press/general/2001/20011002/\",\n",
    "       \"https://www.federalreserve.gov/boarddocs/press/general/2001/20011106/\",\n",
    "       \"https://www.federalreserve.gov/boarddocs/press/general/2001/20011211/\"]"
   ]
  },
  {
   "cell_type": "code",
   "execution_count": 3,
   "metadata": {},
   "outputs": [],
   "source": [
    "\n",
    "\n",
    "y2002 = [\"https://www.federalreserve.gov/boarddocs/press/general/2002/20020130/\",\n",
    "       \"https://www.federalreserve.gov/boarddocs/press/general/2002/20020319/\",\n",
    "       \"https://www.federalreserve.gov/boarddocs/press/monetary/2002/20020507/\",\n",
    "       \"https://www.federalreserve.gov/boarddocs/press/monetary/2002/20020626/\",\n",
    "       \"https://www.federalreserve.gov/boarddocs/press/monetary/2002/20020813/\",\n",
    "       \"https://www.federalreserve.gov/boarddocs/press/monetary/2002/20020924/\",\n",
    "       \"https://www.federalreserve.gov/boarddocs/press/monetary/2002/20020924/\",\n",
    "       \"https://www.federalreserve.gov/boarddocs/press/monetary/2002/20021210/\"]\n",
    "\n",
    "y2003 = [\"https://www.federalreserve.gov/boarddocs/press/monetary/2003/20030129/default.htm\",\n",
    "       \"https://www.federalreserve.gov/boarddocs/press/monetary/2003/20030318/default.htm\",\n",
    "       \"https://www.federalreserve.gov/boarddocs/press/monetary/2003/20030506/default.htm\",\n",
    "       \"https://www.federalreserve.gov/boarddocs/press/monetary/2003/20030625/default.htm\",\n",
    "       \"https://www.federalreserve.gov/boarddocs/press/monetary/2003/20030812/default.htm\",\n",
    "       \"https://www.federalreserve.gov/boarddocs/press/monetary/2003/20030916/default.htm\",\n",
    "       \"https://www.federalreserve.gov/boarddocs/press/monetary/2003/20031028/default.htm\",\n",
    "       \"https://www.federalreserve.gov/boarddocs/press/monetary/2003/20031209/default.htm\"]\n",
    "y2004 = [\"https://www.federalreserve.gov/boarddocs/press/monetary/2004/20040128/default.htm\",\n",
    "       \"https://www.federalreserve.gov/boarddocs/press/monetary/2004/20040316/default.htm\",\n",
    "       \"https://www.federalreserve.gov/boarddocs/press/monetary/2004/20040504/default.htm\",\n",
    "       \"https://www.federalreserve.gov/boarddocs/press/monetary/2004/20040630/default.htm\",\n",
    "       \"https://www.federalreserve.gov/boarddocs/press/monetary/2004/20040810/default.htm\",\n",
    "       \"https://www.federalreserve.gov/boarddocs/press/monetary/2004/20040921/default.htm\",\n",
    "       \"https://www.federalreserve.gov/boarddocs/press/monetary/2004/20041110/default.htm\",\n",
    "       \"https://www.federalreserve.gov/boarddocs/press/monetary/2004/20041214/default.htm\"]\n",
    "y2005 = [\"https://www.federalreserve.gov/boarddocs/press/monetary/2005/20050202/default.htm\",\n",
    "        \"https://www.federalreserve.gov/boarddocs/press/monetary/2005/20050322/default.htm\",\n",
    "        \"https://www.federalreserve.gov/boarddocs/press/monetary/2005/20050503/default.htm\",\n",
    "        \"https://www.federalreserve.gov/boarddocs/press/monetary/2005/20050630/default.htm\",\n",
    "        \"https://www.federalreserve.gov/boarddocs/press/monetary/2005/20050809/default.htm\",\n",
    "        \"https://www.federalreserve.gov/boarddocs/press/monetary/2005/20050920/\",\n",
    "        \"https://www.federalreserve.gov/boarddocs/press/monetary/2005/20051101/\",\n",
    "        \"https://www.federalreserve.gov/boarddocs/press/monetary/2005/20051213/\"]\n"
   ]
  },
  {
   "cell_type": "code",
   "execution_count": 13,
   "metadata": {},
   "outputs": [],
   "source": [
    "#Format changes since 2006\n",
    "\n",
    "\n",
    "y2006 = ['https://www.federalreserve.gov/newsevents/pressreleases/monetary20060131a.htm',\n",
    "        'https://www.federalreserve.gov/newsevents/pressreleases/monetary20060328a.htm',\n",
    "        'https://www.federalreserve.gov/newsevents/pressreleases/monetary20060510a.htm',\n",
    "        'https://www.federalreserve.gov/newsevents/pressreleases/monetary20060629a.htm',\n",
    "        'https://www.federalreserve.gov/newsevents/pressreleases/monetary20060808a.htm',\n",
    "        'https://www.federalreserve.gov/newsevents/pressreleases/monetary20060920a.htm',\n",
    "        'https://www.federalreserve.gov/newsevents/pressreleases/monetary20061025a.htm',\n",
    "        'https://www.federalreserve.gov/newsevents/pressreleases/monetary20061212a.htm']\n",
    "\n",
    "y2007 = ['https://www.federalreserve.gov/newsevents/pressreleases/monetary20070131a.htm',\n",
    "        'https://www.federalreserve.gov/newsevents/pressreleases/monetary20070321a.htm',\n",
    "        'https://www.federalreserve.gov/newsevents/pressreleases/monetary20070509a.htm',\n",
    "        'https://www.federalreserve.gov/newsevents/pressreleases/monetary20070618a.htm',\n",
    "        'https://www.federalreserve.gov/newsevents/pressreleases/monetary20070807a.htm',\n",
    "        'https://www.federalreserve.gov/newsevents/pressreleases/monetary20070810a.htm',\n",
    "        'https://www.federalreserve.gov/newsevents/pressreleases/monetary20070817b.htm',\n",
    "        'https://www.federalreserve.gov/newsevents/pressreleases/monetary20070918a.htm',\n",
    "        'https://www.federalreserve.gov/newsevents/pressreleases/monetary20071031a.htm',\n",
    "        'https://www.federalreserve.gov/newsevents/pressreleases/monetary20071211a.htm']\n",
    "\n",
    "y2008 = ['https://www.federalreserve.gov/newsevents/pressreleases/monetary20080122b.htm',\n",
    "        'https://www.federalreserve.gov/newsevents/pressreleases/monetary20080130a.htm',\n",
    "        'https://www.federalreserve.gov/newsevents/pressreleases/monetary20080311a.htm',\n",
    "        'https://www.federalreserve.gov/newsevents/pressreleases/monetary20080318a.htm',\n",
    "        'https://www.federalreserve.gov/newsevents/pressreleases/monetary20080430a.htm',\n",
    "        'https://www.federalreserve.gov/newsevents/pressreleases/monetary20080625a.htm',\n",
    "        'https://www.federalreserve.gov/newsevents/pressreleases/monetary20080805a.htm',\n",
    "        'https://www.federalreserve.gov/newsevents/pressreleases/monetary20080916a.htm',\n",
    "        'https://www.federalreserve.gov/newsevents/pressreleases/monetary20081008a.htm',\n",
    "        'https://www.federalreserve.gov/newsevents/pressreleases/monetary20081029a.htm',\n",
    "        'https://www.federalreserve.gov/newsevents/pressreleases/monetary20081216b.htm']\n",
    "\n",
    "y2009 = ['https://www.federalreserve.gov/newsevents/pressreleases/monetary20090128a.htm',\n",
    "        'https://www.federalreserve.gov/newsevents/pressreleases/monetary20090318a.htm',\n",
    "        'https://www.federalreserve.gov/newsevents/pressreleases/monetary20090429a.htm',\n",
    "        'https://www.federalreserve.gov/newsevents/pressreleases/monetary20090624a.htm',\n",
    "        'https://www.federalreserve.gov/newsevents/pressreleases/monetary20090812a.htm',\n",
    "        'https://www.federalreserve.gov/newsevents/pressreleases/monetary20090923a.htm',\n",
    "        'https://www.federalreserve.gov/newsevents/pressreleases/monetary20091104a.htm',\n",
    "        'https://www.federalreserve.gov/newsevents/pressreleases/monetary20091216a.htm']"
   ]
  },
  {
   "cell_type": "code",
   "execution_count": 14,
   "metadata": {},
   "outputs": [],
   "source": [
    "#same format as 2007\n",
    "y2010 = ['https://www.federalreserve.gov/newsevents/pressreleases/monetary20100127a.htm',\n",
    "        'https://www.federalreserve.gov/newsevents/pressreleases/monetary20100316a.htm',\n",
    "        'https://www.federalreserve.gov/newsevents/pressreleases/monetary20100428a.htm',\n",
    "        'https://www.federalreserve.gov/newsevents/pressreleases/monetary20100509a.htm',\n",
    "        'https://www.federalreserve.gov/newsevents/pressreleases/monetary20100623a.htm',\n",
    "        'https://www.federalreserve.gov/newsevents/pressreleases/monetary20100810a.htm',\n",
    "        'https://www.federalreserve.gov/newsevents/pressreleases/monetary20100921a.htm',\n",
    "        'https://www.federalreserve.gov/newsevents/pressreleases/monetary20101103a.htm',\n",
    "        'https://www.federalreserve.gov/newsevents/pressreleases/monetary20101214a.htm']\n",
    "\n",
    "y2011 = ['https://www.federalreserve.gov/newsevents/pressreleases/monetary20110126a.htm',\n",
    "        'https://www.federalreserve.gov/newsevents/pressreleases/monetary20110315a.htm',\n",
    "        'https://www.federalreserve.gov/newsevents/pressreleases/monetary20110427a.htm',\n",
    "        'https://www.federalreserve.gov/newsevents/pressreleases/monetary20110622a.htm',\n",
    "        'https://www.federalreserve.gov/newsevents/pressreleases/monetary20110809a.htm',\n",
    "        'https://www.federalreserve.gov/newsevents/pressreleases/monetary20110921a.htm',\n",
    "        'https://www.federalreserve.gov/newsevents/pressreleases/monetary20111102a.htm',\n",
    "        'https://www.federalreserve.gov/newsevents/pressreleases/monetary20111213a.htm']\n",
    "\n",
    "y2012 = ['https://www.federalreserve.gov/newsevents/pressreleases/monetary20120125a.htm',\n",
    "        'https://www.federalreserve.gov/newsevents/pressreleases/monetary20120313a.htm',\n",
    "        'https://www.federalreserve.gov/newsevents/pressreleases/monetary20120425a.htm',\n",
    "        'https://www.federalreserve.gov/newsevents/pressreleases/monetary20120620a.htm',\n",
    "        'https://www.federalreserve.gov/newsevents/pressreleases/monetary20120801a.htm',\n",
    "        'https://www.federalreserve.gov/newsevents/pressreleases/monetary20120913a.htm',\n",
    "        'https://www.federalreserve.gov/newsevents/pressreleases/monetary20121024a.htm',\n",
    "        'https://www.federalreserve.gov/newsevents/pressreleases/monetary20121212a.htm']\n",
    "y2013 = ['https://www.federalreserve.gov/newsevents/pressreleases/monetary20130320a.htm',\n",
    "        'https://www.federalreserve.gov/newsevents/pressreleases/monetary20130619a.htm',\n",
    "        'https://www.federalreserve.gov/newsevents/pressreleases/monetary20130731a.htm',\n",
    "        'https://www.federalreserve.gov/newsevents/pressreleases/monetary20130918a.htm',\n",
    "        'https://www.federalreserve.gov/newsevents/pressreleases/monetary20131030a.htm',\n",
    "        'https://www.federalreserve.gov/newsevents/pressreleases/monetary20131218a.htm']\n",
    "\n",
    "y2014 = ['https://www.federalreserve.gov/newsevents/pressreleases/monetary20140129a.htm',\n",
    "        'https://www.federalreserve.gov/newsevents/pressreleases/monetary20140319a.htm',\n",
    "        'https://www.federalreserve.gov/newsevents/pressreleases/monetary20140430a.htm',\n",
    "        'https://www.federalreserve.gov/newsevents/pressreleases/monetary20140618a.htm',\n",
    "        'https://www.federalreserve.gov/newsevents/pressreleases/monetary20140730a.htm',\n",
    "        'https://www.federalreserve.gov/newsevents/pressreleases/monetary20140917a.htm',\n",
    "        'https://www.federalreserve.gov/newsevents/pressreleases/monetary20141029a.htm',\n",
    "        'https://www.federalreserve.gov/newsevents/pressreleases/monetary20141217a.htm']\n",
    "\n"
   ]
  },
  {
   "cell_type": "markdown",
   "metadata": {},
   "source": [
    "# before 2006"
   ]
  },
  {
   "cell_type": "code",
   "execution_count": 5,
   "metadata": {},
   "outputs": [
    {
     "data": {
      "text/plain": [
       "28"
      ]
     },
     "execution_count": 5,
     "metadata": {},
     "output_type": "execute_result"
    }
   ],
   "source": [
    "year01to03 = []\n",
    "year01to03.extend(y2000)\n",
    "year01to03.extend(y2001)\n",
    "year01to03.extend(y2002)\n",
    "len(year01to03)"
   ]
  },
  {
   "cell_type": "code",
   "execution_count": 6,
   "metadata": {},
   "outputs": [],
   "source": [
    "#A = [\"https://www.federalreserve.gov/boarddocs/press/general/2000/20000321/\", \"https://www.federalreserve.gov/boarddocs/press/general/2000/20000202/\"]\n",
    "date0 = []\n",
    "for i in year01to03:\n",
    "    html = urlopen(i).read()\n",
    "    soup = BeautifulSoup(html, features='lxml')\n",
    "    time = soup.find('i').get_text()\n",
    "    date0.append(time)\n"
   ]
  },
  {
   "cell_type": "code",
   "execution_count": 7,
   "metadata": {},
   "outputs": [
    {
     "data": {
      "text/plain": [
       "28"
      ]
     },
     "execution_count": 7,
     "metadata": {},
     "output_type": "execute_result"
    }
   ],
   "source": [
    "len(date0)"
   ]
  },
  {
   "cell_type": "code",
   "execution_count": 30,
   "metadata": {},
   "outputs": [],
   "source": [
    "import xlsxwriter\n",
    "\n",
    "workbook = xlsxwriter.Workbook('data1.xlsx') \n",
    "worksheet = workbook.add_worksheet() \n",
    "\n",
    "row = 0\n",
    "column = 0\n",
    "\n",
    "for item in date0:  \n",
    "    # write operation perform \n",
    "    worksheet.write(row, column, item)   \n",
    "    # incrementing the value of row by one \n",
    "    # with each iteratons. \n",
    "    row += 1\n",
    "      \n",
    "workbook.close()"
   ]
  },
  {
   "cell_type": "code",
   "execution_count": 31,
   "metadata": {},
   "outputs": [],
   "source": [
    "data = []\n",
    "for i in year01to03:\n",
    "    html = urlopen(i).read()\n",
    "    soup = BeautifulSoup(html, features='lxml')\n",
    "    s = soup.find('table', {'width':'600'})\n",
    "    s0 = s.find_all('p')\n",
    "    #time = s0.find('i').get_text()\n",
    "    data0 = []\n",
    "    for text in s0:\n",
    "        data0.append(text.get_text('|', strip=True))\n",
    "    data0 = [''.join(data0[0:-1])]\n",
    "    data.extend(data0)"
   ]
  },
  {
   "cell_type": "code",
   "execution_count": 10,
   "metadata": {
    "scrolled": true
   },
   "outputs": [
    {
     "data": {
      "text/plain": [
       "['Release Date: March 21, 2000',\n",
       " 'Release Date: February 2, 2000',\n",
       " 'Release Date: May 16, 2000',\n",
       " 'Release Date: May 16, 2000',\n",
       " 'Release Date: June 28, 2000',\n",
       " 'Release Date: August 22, 2000',\n",
       " 'Release Date: October 3, 2000',\n",
       " 'Release Date: November 15, 2000',\n",
       " 'Release Date: December 19, 2000',\n",
       " 'Release Date: January 3, 2001',\n",
       " 'Release Date: January 31, 2001',\n",
       " 'Release Date: March 20, 2001',\n",
       " 'Release Date: April 18, 2001',\n",
       " 'Release Date: May 15, 2001',\n",
       " 'Release Date: June 27, 2001',\n",
       " 'Release Date: August 21, 2001',\n",
       " 'Release Date: September 17, 2001',\n",
       " 'Release Date: October 2, 2001',\n",
       " 'Release Date: November 6, 2001',\n",
       " 'Release Date: December 11, 2001',\n",
       " 'Release Date: January 30, 2002',\n",
       " 'Release Date: March 19, 2002',\n",
       " 'Release Date: May 7, 2002',\n",
       " 'Release Date: June 26, 2002',\n",
       " 'Release Date: August 13, 2002',\n",
       " 'Release Date: September 24, 2002',\n",
       " 'Release Date: September 24, 2002',\n",
       " 'Release Date: December 10, 2002']"
      ]
     },
     "execution_count": 10,
     "metadata": {},
     "output_type": "execute_result"
    }
   ],
   "source": [
    "data"
   ]
  },
  {
   "cell_type": "code",
   "execution_count": 33,
   "metadata": {},
   "outputs": [],
   "source": [
    "#data\n",
    "import xlsxwriter\n",
    "\n",
    "workbook1 = xlsxwriter.Workbook('data.xlsx') \n",
    "worksheet1 = workbook1.add_worksheet() \n",
    "\n",
    "row = 0\n",
    "column = 1\n",
    "\n",
    "for item in data: \n",
    "  \n",
    "    # write operation perform \n",
    "    worksheet1.write(row, column, item) \n",
    "  \n",
    "    # incrementing the value of row by one \n",
    "    # with each iteratons. \n",
    "    row += 1\n",
    "      \n",
    "workbook1.close()"
   ]
  },
  {
   "cell_type": "code",
   "execution_count": 35,
   "metadata": {},
   "outputs": [
    {
     "data": {
      "text/plain": [
       "24"
      ]
     },
     "execution_count": 35,
     "metadata": {},
     "output_type": "execute_result"
    }
   ],
   "source": [
    "year03to06 = []\n",
    "year03to06.extend(y2003)\n",
    "year03to06.extend(y2004)\n",
    "year03to06.extend(y2005)\n",
    "len(year03to06)"
   ]
  },
  {
   "cell_type": "code",
   "execution_count": 36,
   "metadata": {},
   "outputs": [],
   "source": [
    "#A = [\"https://www.federalreserve.gov/boarddocs/press/general/2000/20000321/\", \"https://www.federalreserve.gov/boarddocs/press/general/2000/20000202/\"]\n",
    "date0 = []\n",
    "for i in year03to06:\n",
    "    html = urlopen(i).read()\n",
    "    soup = BeautifulSoup(html, features='lxml')\n",
    "    time = soup.find('i').get_text()\n",
    "    date0.append(time)"
   ]
  },
  {
   "cell_type": "code",
   "execution_count": 37,
   "metadata": {},
   "outputs": [],
   "source": [
    "import xlsxwriter\n",
    "\n",
    "workbook = xlsxwriter.Workbook('data1.xlsx') \n",
    "worksheet = workbook.add_worksheet() \n",
    "\n",
    "row = 0\n",
    "column = 0\n",
    "\n",
    "for item in date0:  \n",
    "    # write operation perform \n",
    "    worksheet.write(row, column, item)   \n",
    "    # incrementing the value of row by one \n",
    "    # with each iteratons. \n",
    "    row += 1\n",
    "      \n",
    "workbook.close()"
   ]
  },
  {
   "cell_type": "code",
   "execution_count": 38,
   "metadata": {},
   "outputs": [],
   "source": [
    "data = []\n",
    "for i in year03to06:\n",
    "    html = urlopen(i).read()\n",
    "    soup = BeautifulSoup(html, features='lxml')\n",
    "    s = soup.find('table', {'width':'600'})\n",
    "    s0 = s.find_all('p')\n",
    "    #time = s0.find('i').get_text()\n",
    "    data0 = []\n",
    "    for text in s0:\n",
    "        data0.append(text.get_text('|', strip=True))\n",
    "    data0 = [''.join(data0[0:-1])]\n",
    "    data.extend(data0)"
   ]
  },
  {
   "cell_type": "code",
   "execution_count": 39,
   "metadata": {},
   "outputs": [],
   "source": [
    "#data\n",
    "import xlsxwriter\n",
    "\n",
    "workbook1 = xlsxwriter.Workbook('dataText03-05.xlsx') \n",
    "worksheet1 = workbook1.add_worksheet() \n",
    "\n",
    "row = 0\n",
    "column = 1\n",
    "  \n",
    "for item in data: \n",
    "  \n",
    "    # write operation perform \n",
    "    worksheet1.write(row, column, item) \n",
    "  \n",
    "    # incrementing the value of row by one \n",
    "    # with each iteratons. \n",
    "    row += 1\n",
    "      \n",
    "workbook1.close()"
   ]
  },
  {
   "cell_type": "markdown",
   "metadata": {},
   "source": [
    "# after 2006"
   ]
  },
  {
   "cell_type": "code",
   "execution_count": 41,
   "metadata": {},
   "outputs": [
    {
     "data": {
      "text/plain": [
       "46"
      ]
     },
     "execution_count": 41,
     "metadata": {},
     "output_type": "execute_result"
    }
   ],
   "source": [
    "year06to10 = []\n",
    "year06to10.extend(y2006)\n",
    "year06to10.extend(y2007)\n",
    "year06to10.extend(y2008)\n",
    "year06to10.extend(y2009)\n",
    "year06to10.extend(y2010)\n",
    "len(year06to10)"
   ]
  },
  {
   "cell_type": "code",
   "execution_count": 42,
   "metadata": {},
   "outputs": [],
   "source": [
    "#A = [\"https://www.federalreserve.gov/boarddocs/press/general/2000/20000321/\", \"https://www.federalreserve.gov/boarddocs/press/general/2000/20000202/\"]\n",
    "date0 = []\n",
    "for i in year06to10:\n",
    "    html = urlopen(i).read()\n",
    "    soup = BeautifulSoup(html, features='lxml')\n",
    "    s = soup.find('p', {'class':'article__time'}).get_text()\n",
    "    date0.append(s)\n"
   ]
  },
  {
   "cell_type": "code",
   "execution_count": 43,
   "metadata": {},
   "outputs": [],
   "source": [
    "import xlsxwriter\n",
    "\n",
    "workbook = xlsxwriter.Workbook('data06-10.xlsx') \n",
    "worksheet = workbook.add_worksheet() \n",
    "\n",
    "row = 0\n",
    "column = 0\n",
    "\n",
    "for item in date0:  \n",
    "    # write operation perform \n",
    "    worksheet.write(row, column, item)   \n",
    "    # incrementing the value of row by one \n",
    "    # with each iteratons. \n",
    "    row += 1\n",
    "      \n",
    "workbook.close()"
   ]
  },
  {
   "cell_type": "code",
   "execution_count": 47,
   "metadata": {},
   "outputs": [
    {
     "data": {
      "text/plain": [
       "30"
      ]
     },
     "execution_count": 47,
     "metadata": {},
     "output_type": "execute_result"
    }
   ],
   "source": [
    "year11to14 = []\n",
    "year11to14.extend(y2011)\n",
    "year11to14.extend(y2012)\n",
    "year11to14.extend(y2013)\n",
    "year11to14.extend(y2014)\n",
    "len(year11to14)"
   ]
  },
  {
   "cell_type": "code",
   "execution_count": 48,
   "metadata": {},
   "outputs": [],
   "source": [
    "\n",
    "#A = [\"https://www.federalreserve.gov/boarddocs/press/general/2000/20000321/\", \"https://www.federalreserve.gov/boarddocs/press/general/2000/20000202/\"]\n",
    "date0 = []\n",
    "for i in year11to14:\n",
    "    html = urlopen(i).read()\n",
    "    soup = BeautifulSoup(html, features='lxml')\n",
    "    s = soup.find('p', {'class':'article__time'}).get_text()\n",
    "    date0.append(s)\n"
   ]
  },
  {
   "cell_type": "code",
   "execution_count": 49,
   "metadata": {},
   "outputs": [],
   "source": [
    "import xlsxwriter\n",
    "\n",
    "workbook = xlsxwriter.Workbook('data11-14.xlsx') \n",
    "worksheet = workbook.add_worksheet() \n",
    "\n",
    "row = 0\n",
    "column = 0\n",
    "\n",
    "for item in date0:  \n",
    "    # write operation perform \n",
    "    worksheet.write(row, column, item)   \n",
    "    # incrementing the value of row by one \n",
    "    # with each iteratons. \n",
    "    row += 1\n",
    "      \n",
    "workbook.close()"
   ]
  },
  {
   "cell_type": "code",
   "execution_count": 59,
   "metadata": {},
   "outputs": [],
   "source": [
    "data = []\n",
    "for i in year03to06:\n",
    "    html = urlopen(i).read()\n",
    "    soup = BeautifulSoup(html, features='lxml')\n",
    "    s = soup.find('table', {'width':'600'})\n",
    "    s0 = s.find_all('p')\n",
    "    #time = s0.find('i').get_text()\n",
    "    data0 = []\n",
    "    for text in s0:\n",
    "        data0.append(text.get_text('|', strip=True))\n",
    "    data0 = [''.join(data0[0:-1])]\n",
    "    data.extend(data0)"
   ]
  },
  {
   "cell_type": "code",
   "execution_count": 65,
   "metadata": {},
   "outputs": [],
   "source": [
    "#data"
   ]
  },
  {
   "cell_type": "code",
   "execution_count": 63,
   "metadata": {},
   "outputs": [],
   "source": [
    "data = []\n",
    "for i in y2006:\n",
    "    html = urlopen(i).read()\n",
    "    soup = BeautifulSoup(html, features='lxml')\n",
    "    s = soup.find('div', {'class':'col-xs-12 col-sm-8 col-md-8'}).get_text('|', strip=True)\n",
    "\n",
    "    #data0 = [''.join(data0[0:-1])]\n",
    "    data.extend(data0)"
   ]
  },
  {
   "cell_type": "code",
   "execution_count": 80,
   "metadata": {},
   "outputs": [],
   "source": [
    "\n",
    "data = []\n",
    "for i in year06to10:\n",
    "    html = urlopen(i).read()\n",
    "    soup = BeautifulSoup(html, features='lxml')\n",
    "    s = soup.find('div', {'class':'col-xs-12 col-sm-8 col-md-8'}).get_text('|', strip=True)\n",
    "\n",
    "    #data0 = [''.join(data0[0:-1])]\n",
    "    data.append(s)\n",
    "    \n"
   ]
  },
  {
   "cell_type": "code",
   "execution_count": 82,
   "metadata": {},
   "outputs": [
    {
     "data": {
      "text/plain": [
       "46"
      ]
     },
     "execution_count": 82,
     "metadata": {},
     "output_type": "execute_result"
    }
   ],
   "source": [
    "len(data)"
   ]
  },
  {
   "cell_type": "code",
   "execution_count": 84,
   "metadata": {},
   "outputs": [],
   "source": [
    "#data\n",
    "import xlsxwriter\n",
    "\n",
    "workbook1 = xlsxwriter.Workbook('dataText06-10.xlsx') \n",
    "worksheet1 = workbook1.add_worksheet() \n",
    "\n",
    "row = 0\n",
    "column = 1\n",
    "  \n",
    "\n",
    "for item in data: \n",
    "  \n",
    "    # write operation perform \n",
    "    worksheet1.write(row, column, item) \n",
    "  \n",
    "    # incrementing the value of row by one \n",
    "    # with each iteratons. \n",
    "    row += 1\n",
    "      \n",
    "workbook1.close()"
   ]
  },
  {
   "cell_type": "code",
   "execution_count": 85,
   "metadata": {},
   "outputs": [],
   "source": [
    "\n",
    "data = []\n",
    "for i in year11to14:\n",
    "    html = urlopen(i).read()\n",
    "    soup = BeautifulSoup(html, features='lxml')\n",
    "    s = soup.find('div', {'class':'col-xs-12 col-sm-8 col-md-8'}).get_text('|', strip=True)\n",
    "\n",
    "    #data0 = [''.join(data0[0:-1])]\n",
    "    data.append(s)\n",
    "    \n"
   ]
  },
  {
   "cell_type": "code",
   "execution_count": 86,
   "metadata": {},
   "outputs": [],
   "source": [
    "#data\n",
    "import xlsxwriter\n",
    "\n",
    "workbook1 = xlsxwriter.Workbook('dataText11-14.xlsx') \n",
    "worksheet1 = workbook1.add_worksheet() \n",
    "\n",
    "row = 0\n",
    "column = 1\n",
    "  \n",
    "\n",
    "for item in data: \n",
    "  \n",
    "    # write operation perform \n",
    "    worksheet1.write(row, column, item) \n",
    "  \n",
    "    # incrementing the value of row by one \n",
    "    # with each iteratons. \n",
    "    row += 1\n",
    "      \n",
    "workbook1.close()"
   ]
  },
  {
   "cell_type": "code",
   "execution_count": null,
   "metadata": {},
   "outputs": [],
   "source": []
  },
  {
   "cell_type": "code",
   "execution_count": null,
   "metadata": {},
   "outputs": [],
   "source": []
  },
  {
   "cell_type": "code",
   "execution_count": null,
   "metadata": {},
   "outputs": [],
   "source": []
  }
 ],
 "metadata": {
  "kernelspec": {
   "display_name": "Python 3",
   "language": "python",
   "name": "python3"
  },
  "language_info": {
   "codemirror_mode": {
    "name": "ipython",
    "version": 3
   },
   "file_extension": ".py",
   "mimetype": "text/x-python",
   "name": "python",
   "nbconvert_exporter": "python",
   "pygments_lexer": "ipython3",
   "version": "3.6.10"
  }
 },
 "nbformat": 4,
 "nbformat_minor": 2
}
