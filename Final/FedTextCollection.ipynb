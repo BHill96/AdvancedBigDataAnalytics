{
 "cells": [
  {
   "cell_type": "code",
   "execution_count": null,
   "metadata": {},
   "outputs": [],
   "source": [
    "#https://www.federalreserve.gov/monetarypolicy/fomc_historical_year.htm"
   ]
  },
  {
   "cell_type": "markdown",
   "metadata": {},
   "source": [
    "'''\n",
    "author: Yaxin(Grace)  Li\n",
    "'''"
   ]
  },
  {
   "cell_type": "code",
   "execution_count": 10,
   "metadata": {},
   "outputs": [],
   "source": [
    "from urllib.request import urlopen\n",
    "from bs4 import BeautifulSoup\n",
    "import re "
   ]
  },
  {
   "cell_type": "code",
   "execution_count": 52,
   "metadata": {},
   "outputs": [],
   "source": [
    "#https://pythonspot.com/save-a-dictionary-to-a-file/\n",
    "with open(\"test.txt\",\"w\") as f:\n",
    "    for item in data: \n",
    "        f.write(item)"
   ]
  },
  {
   "cell_type": "code",
   "execution_count": 65,
   "metadata": {},
   "outputs": [],
   "source": [
    "y1998 = [\"https://www.federalreserve.gov/boarddocs/press/general/1998/19980929/\",\n",
    "        \"https://www.federalreserve.gov/boarddocs/press/general/1998/19981117/\",\n",
    "        \"https://www.federalreserve.gov/boarddocs/press/general/1998/19981015/\"]\n",
    "y1997 = [\"https://www.federalreserve.gov/boarddocs/press/general/1997/19970325/\"]\n"
   ]
  },
  {
   "cell_type": "code",
   "execution_count": 78,
   "metadata": {},
   "outputs": [],
   "source": [
    "y1996 = [\"https://www.federalreserve.gov/fomc/19960131DEFAULT.htm\"]"
   ]
  },
  {
   "cell_type": "code",
   "execution_count": 76,
   "metadata": {},
   "outputs": [],
   "source": [
    "y1995 = [\"https://www.federalreserve.gov/fomc/19950201default.htm\",\n",
    "        \"https://www.federalreserve.gov/fomc/19950706default.htm\",\n",
    "        \"https://www.federalreserve.gov/fomc/19951219default.htm\"]\n",
    "\n",
    "y1994 = [\"https://www.federalreserve.gov/fomc/19940204default.htm\",\n",
    "        \"https://www.federalreserve.gov/fomc/19940322default.htm\",\n",
    "        \"https://www.federalreserve.gov/fomc/19940418default.htm\",\n",
    "        \"https://www.federalreserve.gov/fomc/19940517default.htm\",\n",
    "        \"https://www.federalreserve.gov/fomc/19940816default.htm\",\n",
    "        \"https://www.federalreserve.gov/fomc/19941115default.htm\"]"
   ]
  },
  {
   "cell_type": "code",
   "execution_count": 64,
   "metadata": {},
   "outputs": [],
   "source": [
    "y1999 = [\"https://www.federalreserve.gov/boarddocs/press/general/1999/19990518/\",\n",
    "        \"https://www.federalreserve.gov/boarddocs/press/general/1999/19990630/\",\n",
    "        \"https://www.federalreserve.gov/boarddocs/press/general/1999/19990824/\",\n",
    "        \"https://www.federalreserve.gov/boarddocs/press/general/1999/19991005/\",\n",
    "        \"https://www.federalreserve.gov/boarddocs/press/general/1999/19991116/\",\n",
    "        \"https://www.federalreserve.gov/boarddocs/press/general/1999/19991221/\"]"
   ]
  },
  {
   "cell_type": "code",
   "execution_count": 1,
   "metadata": {},
   "outputs": [],
   "source": [
    "y2000 = [\"https://www.federalreserve.gov/boarddocs/press/general/2000/20000321/\",\n",
    "     \"https://www.federalreserve.gov/boarddocs/press/general/2000/20000202/\",\n",
    "     \"https://www.federalreserve.gov/boarddocs/press/general/2000/20000516/\",\n",
    "    \"https://www.federalreserve.gov/boarddocs/press/general/2000/20000516/\",\n",
    "    \"https://www.federalreserve.gov/boarddocs/press/general/2000/20000628/\",\n",
    "    \"https://www.federalreserve.gov/boarddocs/press/general/2000/20000822/\",\n",
    "    \"https://www.federalreserve.gov/boarddocs/press/general/2000/20001003/\",\n",
    "    \"https://www.federalreserve.gov/boarddocs/press/general/2000/20001115/\",\n",
    "    \"https://www.federalreserve.gov/boarddocs/press/general/2000/20001219/\"]\n"
   ]
  },
  {
   "cell_type": "code",
   "execution_count": 2,
   "metadata": {},
   "outputs": [],
   "source": [
    "y2001 = [\"https://www.federalreserve.gov/boarddocs/press/general/2001/20010103/\",\n",
    "       \"https://www.federalreserve.gov/boarddocs/press/general/2001/20010131/\",\n",
    "       \"https://www.federalreserve.gov/boarddocs/press/general/2001/20010320/\",\n",
    "       \"https://www.federalreserve.gov/boarddocs/press/general/2001/20010418/\",\n",
    "       \"https://www.federalreserve.gov/boarddocs/press/general/2001/20010515/\",\n",
    "       \"https://www.federalreserve.gov/boarddocs/press/general/2001/20010627/\",\n",
    "       \"https://www.federalreserve.gov/boarddocs/press/general/2001/20010821/\",\n",
    "       \"https://www.federalreserve.gov/boarddocs/press/general/2001/20010917/\",\n",
    "       \"https://www.federalreserve.gov/boarddocs/press/general/2001/20011002/\",\n",
    "       \"https://www.federalreserve.gov/boarddocs/press/general/2001/20011106/\",\n",
    "       \"https://www.federalreserve.gov/boarddocs/press/general/2001/20011211/\"]"
   ]
  },
  {
   "cell_type": "code",
   "execution_count": 3,
   "metadata": {},
   "outputs": [],
   "source": [
    "\n",
    "\n",
    "y2002 = [\"https://www.federalreserve.gov/boarddocs/press/general/2002/20020130/\",\n",
    "       \"https://www.federalreserve.gov/boarddocs/press/general/2002/20020319/\",\n",
    "       \"https://www.federalreserve.gov/boarddocs/press/monetary/2002/20020507/\",\n",
    "       \"https://www.federalreserve.gov/boarddocs/press/monetary/2002/20020626/\",\n",
    "       \"https://www.federalreserve.gov/boarddocs/press/monetary/2002/20020813/\",\n",
    "       \"https://www.federalreserve.gov/boarddocs/press/monetary/2002/20020924/\",\n",
    "       \"https://www.federalreserve.gov/boarddocs/press/monetary/2002/20020924/\",\n",
    "       \"https://www.federalreserve.gov/boarddocs/press/monetary/2002/20021210/\"]\n",
    "\n",
    "y2003 = [\"https://www.federalreserve.gov/boarddocs/press/monetary/2003/20030129/default.htm\",\n",
    "       \"https://www.federalreserve.gov/boarddocs/press/monetary/2003/20030318/default.htm\",\n",
    "       \"https://www.federalreserve.gov/boarddocs/press/monetary/2003/20030506/default.htm\",\n",
    "       \"https://www.federalreserve.gov/boarddocs/press/monetary/2003/20030625/default.htm\",\n",
    "       \"https://www.federalreserve.gov/boarddocs/press/monetary/2003/20030812/default.htm\",\n",
    "       \"https://www.federalreserve.gov/boarddocs/press/monetary/2003/20030916/default.htm\",\n",
    "       \"https://www.federalreserve.gov/boarddocs/press/monetary/2003/20031028/default.htm\",\n",
    "       \"https://www.federalreserve.gov/boarddocs/press/monetary/2003/20031209/default.htm\"]\n",
    "y2004 = [\"https://www.federalreserve.gov/boarddocs/press/monetary/2004/20040128/default.htm\",\n",
    "       \"https://www.federalreserve.gov/boarddocs/press/monetary/2004/20040316/default.htm\",\n",
    "       \"https://www.federalreserve.gov/boarddocs/press/monetary/2004/20040504/default.htm\",\n",
    "       \"https://www.federalreserve.gov/boarddocs/press/monetary/2004/20040630/default.htm\",\n",
    "       \"https://www.federalreserve.gov/boarddocs/press/monetary/2004/20040810/default.htm\",\n",
    "       \"https://www.federalreserve.gov/boarddocs/press/monetary/2004/20040921/default.htm\",\n",
    "       \"https://www.federalreserve.gov/boarddocs/press/monetary/2004/20041110/default.htm\",\n",
    "       \"https://www.federalreserve.gov/boarddocs/press/monetary/2004/20041214/default.htm\"]\n",
    "y2005 = [\"https://www.federalreserve.gov/boarddocs/press/monetary/2005/20050202/default.htm\",\n",
    "        \"https://www.federalreserve.gov/boarddocs/press/monetary/2005/20050322/default.htm\",\n",
    "        \"https://www.federalreserve.gov/boarddocs/press/monetary/2005/20050503/default.htm\",\n",
    "        \"https://www.federalreserve.gov/boarddocs/press/monetary/2005/20050630/default.htm\",\n",
    "        \"https://www.federalreserve.gov/boarddocs/press/monetary/2005/20050809/default.htm\",\n",
    "        \"https://www.federalreserve.gov/boarddocs/press/monetary/2005/20050920/\",\n",
    "        \"https://www.federalreserve.gov/boarddocs/press/monetary/2005/20051101/\",\n",
    "        \"https://www.federalreserve.gov/boarddocs/press/monetary/2005/20051213/\"]\n"
   ]
  },
  {
   "cell_type": "code",
   "execution_count": 26,
   "metadata": {},
   "outputs": [],
   "source": [
    "#html Format changed since 2006\n",
    "y2006 = ['https://www.federalreserve.gov/newsevents/pressreleases/monetary20060131a.htm',\n",
    "        'https://www.federalreserve.gov/newsevents/pressreleases/monetary20060328a.htm',\n",
    "        'https://www.federalreserve.gov/newsevents/pressreleases/monetary20060510a.htm',\n",
    "        'https://www.federalreserve.gov/newsevents/pressreleases/monetary20060629a.htm',\n",
    "        'https://www.federalreserve.gov/newsevents/pressreleases/monetary20060808a.htm',\n",
    "        'https://www.federalreserve.gov/newsevents/pressreleases/monetary20060920a.htm',\n",
    "        'https://www.federalreserve.gov/newsevents/pressreleases/monetary20061025a.htm',\n",
    "        'https://www.federalreserve.gov/newsevents/pressreleases/monetary20061212a.htm']\n",
    "\n",
    "y2007 = ['https://www.federalreserve.gov/newsevents/pressreleases/monetary20070131a.htm',\n",
    "        'https://www.federalreserve.gov/newsevents/pressreleases/monetary20070321a.htm',\n",
    "        'https://www.federalreserve.gov/newsevents/pressreleases/monetary20070509a.htm',\n",
    "        'https://www.federalreserve.gov/newsevents/pressreleases/monetary20070618a.htm',\n",
    "        'https://www.federalreserve.gov/newsevents/pressreleases/monetary20070807a.htm',\n",
    "        'https://www.federalreserve.gov/newsevents/pressreleases/monetary20070810a.htm',\n",
    "        'https://www.federalreserve.gov/newsevents/pressreleases/monetary20070817b.htm',\n",
    "        'https://www.federalreserve.gov/newsevents/pressreleases/monetary20070918a.htm',\n",
    "        'https://www.federalreserve.gov/newsevents/pressreleases/monetary20071031a.htm',\n",
    "        'https://www.federalreserve.gov/newsevents/pressreleases/monetary20071211a.htm']\n",
    "\n",
    "y2008 = ['https://www.federalreserve.gov/newsevents/pressreleases/monetary20080122b.htm',\n",
    "        'https://www.federalreserve.gov/newsevents/pressreleases/monetary20080130a.htm',\n",
    "        'https://www.federalreserve.gov/newsevents/pressreleases/monetary20080311a.htm',\n",
    "        'https://www.federalreserve.gov/newsevents/pressreleases/monetary20080318a.htm',\n",
    "        'https://www.federalreserve.gov/newsevents/pressreleases/monetary20080430a.htm',\n",
    "        'https://www.federalreserve.gov/newsevents/pressreleases/monetary20080625a.htm',\n",
    "        'https://www.federalreserve.gov/newsevents/pressreleases/monetary20080805a.htm',\n",
    "        'https://www.federalreserve.gov/newsevents/pressreleases/monetary20080916a.htm',\n",
    "        'https://www.federalreserve.gov/newsevents/pressreleases/monetary20081008a.htm',\n",
    "        'https://www.federalreserve.gov/newsevents/pressreleases/monetary20081029a.htm',\n",
    "        'https://www.federalreserve.gov/newsevents/pressreleases/monetary20081216b.htm']\n",
    "\n",
    "y2009 = ['https://www.federalreserve.gov/newsevents/pressreleases/monetary20090128a.htm',\n",
    "        'https://www.federalreserve.gov/newsevents/pressreleases/monetary20090318a.htm',\n",
    "        'https://www.federalreserve.gov/newsevents/pressreleases/monetary20090429a.htm',\n",
    "        'https://www.federalreserve.gov/newsevents/pressreleases/monetary20090624a.htm',\n",
    "        'https://www.federalreserve.gov/newsevents/pressreleases/monetary20090812a.htm',\n",
    "        'https://www.federalreserve.gov/newsevents/pressreleases/monetary20090923a.htm',\n",
    "        'https://www.federalreserve.gov/newsevents/pressreleases/monetary20091104a.htm',\n",
    "        'https://www.federalreserve.gov/newsevents/pressreleases/monetary20091216a.htm']"
   ]
  },
  {
   "cell_type": "code",
   "execution_count": 25,
   "metadata": {},
   "outputs": [],
   "source": [
    "#same format as 2007\n",
    "y2010 = ['https://www.federalreserve.gov/newsevents/pressreleases/monetary20100127a.htm',\n",
    "        'https://www.federalreserve.gov/newsevents/pressreleases/monetary20100316a.htm',\n",
    "        'https://www.federalreserve.gov/newsevents/pressreleases/monetary20100428a.htm',\n",
    "        'https://www.federalreserve.gov/newsevents/pressreleases/monetary20100509a.htm',\n",
    "        'https://www.federalreserve.gov/newsevents/pressreleases/monetary20100623a.htm',\n",
    "        'https://www.federalreserve.gov/newsevents/pressreleases/monetary20100810a.htm',\n",
    "        'https://www.federalreserve.gov/newsevents/pressreleases/monetary20100921a.htm',\n",
    "        'https://www.federalreserve.gov/newsevents/pressreleases/monetary20101103a.htm',\n",
    "        'https://www.federalreserve.gov/newsevents/pressreleases/monetary20101214a.htm']\n",
    "\n",
    "y2011 = ['https://www.federalreserve.gov/newsevents/pressreleases/monetary20110126a.htm',\n",
    "        'https://www.federalreserve.gov/newsevents/pressreleases/monetary20110315a.htm',\n",
    "        'https://www.federalreserve.gov/newsevents/pressreleases/monetary20110427a.htm',\n",
    "        'https://www.federalreserve.gov/newsevents/pressreleases/monetary20110622a.htm',\n",
    "        'https://www.federalreserve.gov/newsevents/pressreleases/monetary20110809a.htm',\n",
    "        'https://www.federalreserve.gov/newsevents/pressreleases/monetary20110921a.htm',\n",
    "        'https://www.federalreserve.gov/newsevents/pressreleases/monetary20111102a.htm',\n",
    "        'https://www.federalreserve.gov/newsevents/pressreleases/monetary20111213a.htm']\n",
    "\n",
    "y2012 = ['https://www.federalreserve.gov/newsevents/pressreleases/monetary20120125a.htm',\n",
    "        'https://www.federalreserve.gov/newsevents/pressreleases/monetary20120313a.htm',\n",
    "        'https://www.federalreserve.gov/newsevents/pressreleases/monetary20120425a.htm',\n",
    "        'https://www.federalreserve.gov/newsevents/pressreleases/monetary20120620a.htm',\n",
    "        'https://www.federalreserve.gov/newsevents/pressreleases/monetary20120801a.htm',\n",
    "        'https://www.federalreserve.gov/newsevents/pressreleases/monetary20120913a.htm',\n",
    "        'https://www.federalreserve.gov/newsevents/pressreleases/monetary20121024a.htm',\n",
    "        'https://www.federalreserve.gov/newsevents/pressreleases/monetary20121212a.htm']\n",
    "y2013 = ['https://www.federalreserve.gov/newsevents/pressreleases/monetary20130320a.htm',\n",
    "        'https://www.federalreserve.gov/newsevents/pressreleases/monetary20130619a.htm',\n",
    "        'https://www.federalreserve.gov/newsevents/pressreleases/monetary20130731a.htm',\n",
    "        'https://www.federalreserve.gov/newsevents/pressreleases/monetary20130918a.htm',\n",
    "        'https://www.federalreserve.gov/newsevents/pressreleases/monetary20131030a.htm',\n",
    "        'https://www.federalreserve.gov/newsevents/pressreleases/monetary20131218a.htm']\n",
    "\n",
    "y2014 = ['https://www.federalreserve.gov/newsevents/pressreleases/monetary20140129a.htm',\n",
    "        'https://www.federalreserve.gov/newsevents/pressreleases/monetary20140319a.htm',\n",
    "        'https://www.federalreserve.gov/newsevents/pressreleases/monetary20140430a.htm',\n",
    "        'https://www.federalreserve.gov/newsevents/pressreleases/monetary20140618a.htm',\n",
    "        'https://www.federalreserve.gov/newsevents/pressreleases/monetary20140730a.htm',\n",
    "        'https://www.federalreserve.gov/newsevents/pressreleases/monetary20140917a.htm',\n",
    "        'https://www.federalreserve.gov/newsevents/pressreleases/monetary20141029a.htm',\n",
    "        'https://www.federalreserve.gov/newsevents/pressreleases/monetary20141217a.htm']\n",
    "\n"
   ]
  },
  {
   "cell_type": "markdown",
   "metadata": {},
   "source": [
    "# before 2006"
   ]
  },
  {
   "cell_type": "code",
   "execution_count": 52,
   "metadata": {},
   "outputs": [
    {
     "data": {
      "text/plain": [
       "28"
      ]
     },
     "execution_count": 52,
     "metadata": {},
     "output_type": "execute_result"
    }
   ],
   "source": [
    "year01to03 = y2000 + y2001 + y2002\n",
    "len(year01to03)"
   ]
  },
  {
   "cell_type": "code",
   "execution_count": 53,
   "metadata": {},
   "outputs": [],
   "source": [
    "date = []\n",
    "for i in year01to03:\n",
    "    html = urlopen(i).read()\n",
    "    soup = BeautifulSoup(html, features='lxml')\n",
    "    time = soup.find('i').get_text()\n",
    "    date.append(time)"
   ]
  },
  {
   "cell_type": "code",
   "execution_count": 54,
   "metadata": {},
   "outputs": [],
   "source": [
    "textdata = []\n",
    "for i in year01to03:\n",
    "    html = urlopen(i).read()\n",
    "    soup = BeautifulSoup(html, features='lxml')\n",
    "    s = soup.find('table', {'width':'600'})\n",
    "    s0 = s.find_all('p')\n",
    "    data0 = []\n",
    "    for text in s0:\n",
    "        data0.append(text.get_text('|', strip=True))\n",
    "    data0 = [''.join(data0[0:-1])]\n",
    "    textdata.extend(data0)"
   ]
  },
  {
   "cell_type": "code",
   "execution_count": 55,
   "metadata": {
    "scrolled": true
   },
   "outputs": [
    {
     "data": {
      "text/plain": [
       "24"
      ]
     },
     "execution_count": 55,
     "metadata": {},
     "output_type": "execute_result"
    }
   ],
   "source": [
    "#textdata\n",
    "year03to06 = y2003 + y2004 + y2005\n",
    "len(year03to06)"
   ]
  },
  {
   "cell_type": "code",
   "execution_count": 56,
   "metadata": {},
   "outputs": [
    {
     "data": {
      "text/plain": [
       "52"
      ]
     },
     "execution_count": 56,
     "metadata": {},
     "output_type": "execute_result"
    }
   ],
   "source": [
    "for i in year03to06:\n",
    "    html = urlopen(i).read()\n",
    "    soup = BeautifulSoup(html, features='lxml')\n",
    "    time = soup.find('i').get_text()\n",
    "    date.append(time)\n",
    "len(date)"
   ]
  },
  {
   "cell_type": "code",
   "execution_count": 57,
   "metadata": {},
   "outputs": [
    {
     "data": {
      "text/plain": [
       "52"
      ]
     },
     "execution_count": 57,
     "metadata": {},
     "output_type": "execute_result"
    }
   ],
   "source": [
    "for i in year03to06:\n",
    "    html = urlopen(i).read()\n",
    "    soup = BeautifulSoup(html, features='lxml')\n",
    "    s = soup.find('table', {'width':'600'})\n",
    "    s0 = s.find_all('p')\n",
    "    #time = s0.find('i').get_text()\n",
    "    data0 = []\n",
    "    for text in s0:\n",
    "        data0.append(text.get_text('|', strip=True))\n",
    "    data0 = [''.join(data0[0:-1])]\n",
    "    textdata.extend(data0)\n",
    "len(textdata)"
   ]
  },
  {
   "cell_type": "markdown",
   "metadata": {},
   "source": [
    "# after 2006"
   ]
  },
  {
   "cell_type": "code",
   "execution_count": 58,
   "metadata": {},
   "outputs": [
    {
     "data": {
      "text/plain": [
       "46"
      ]
     },
     "execution_count": 58,
     "metadata": {},
     "output_type": "execute_result"
    }
   ],
   "source": [
    "year06to10 = y2006 + y2007 + y2008 + y2009 + y2010\n",
    "len(year06to10)"
   ]
  },
  {
   "cell_type": "code",
   "execution_count": 59,
   "metadata": {},
   "outputs": [
    {
     "data": {
      "text/plain": [
       "98"
      ]
     },
     "execution_count": 59,
     "metadata": {},
     "output_type": "execute_result"
    }
   ],
   "source": [
    "for i in year06to10:\n",
    "    html = urlopen(i).read()\n",
    "    soup = BeautifulSoup(html, features='lxml')\n",
    "    s = soup.find('p', {'class':'article__time'}).get_text()\n",
    "    date.append(s)\n",
    "len(date)"
   ]
  },
  {
   "cell_type": "code",
   "execution_count": 60,
   "metadata": {},
   "outputs": [
    {
     "data": {
      "text/plain": [
       "30"
      ]
     },
     "execution_count": 60,
     "metadata": {},
     "output_type": "execute_result"
    }
   ],
   "source": [
    "year11to14 = y2011 + y2012 + y2013 + y2014\n",
    "len(year11to14)"
   ]
  },
  {
   "cell_type": "code",
   "execution_count": 61,
   "metadata": {},
   "outputs": [
    {
     "data": {
      "text/plain": [
       "128"
      ]
     },
     "execution_count": 61,
     "metadata": {},
     "output_type": "execute_result"
    }
   ],
   "source": [
    "for i in year11to14:\n",
    "    html = urlopen(i).read()\n",
    "    soup = BeautifulSoup(html, features='lxml')\n",
    "    s = soup.find('p', {'class':'article__time'}).get_text()\n",
    "    date.append(s)\n",
    "len(date)"
   ]
  },
  {
   "cell_type": "code",
   "execution_count": 62,
   "metadata": {},
   "outputs": [
    {
     "data": {
      "text/plain": [
       "98"
      ]
     },
     "execution_count": 62,
     "metadata": {},
     "output_type": "execute_result"
    }
   ],
   "source": [
    "#textdata from 2006 to 2010\n",
    "for i in year06to10:\n",
    "    html = urlopen(i).read()\n",
    "    soup = BeautifulSoup(html, features='lxml')\n",
    "    s = soup.find('div', {'class':'col-xs-12 col-sm-8 col-md-8'}).get_text('|', strip=True)\n",
    "\n",
    "    textdata.append(s)\n",
    "len(textdata)"
   ]
  },
  {
   "cell_type": "code",
   "execution_count": 63,
   "metadata": {},
   "outputs": [
    {
     "data": {
      "text/plain": [
       "128"
      ]
     },
     "execution_count": 63,
     "metadata": {},
     "output_type": "execute_result"
    }
   ],
   "source": [
    "for i in year11to14:\n",
    "    html = urlopen(i).read()\n",
    "    soup = BeautifulSoup(html, features='lxml')\n",
    "    s = soup.find('div', {'class':'col-xs-12 col-sm-8 col-md-8'}).get_text('|', strip=True)\n",
    "\n",
    "    #data0 = [''.join(data0[0:-1])]\n",
    "    textdata.append(s)\n",
    "len(textdata)"
   ]
  },
  {
   "cell_type": "code",
   "execution_count": 86,
   "metadata": {},
   "outputs": [],
   "source": [
    "#output data to excel file\n",
    "import xlsxwriter\n",
    "\n",
    "workbook1 = xlsxwriter.Workbook('dataText11-14.xlsx') \n",
    "worksheet1 = workbook1.add_worksheet() \n",
    "\n",
    "row = 0\n",
    "column = 1\n",
    "\n",
    "for item in data: \n",
    "    worksheet1.write(row, column, item) \n",
    "    row += 1\n",
    "      \n",
    "workbook1.close()"
   ]
  },
  {
   "cell_type": "markdown",
   "metadata": {},
   "source": [
    "## Data Year 1997 - 1999"
   ]
  },
  {
   "cell_type": "code",
   "execution_count": 157,
   "metadata": {},
   "outputs": [
    {
     "data": {
      "text/plain": [
       "10"
      ]
     },
     "execution_count": 157,
     "metadata": {},
     "output_type": "execute_result"
    }
   ],
   "source": [
    "y97to99 = y1999 + y1998 + y1997\n",
    "len(y97to99)"
   ]
  },
  {
   "cell_type": "code",
   "execution_count": 158,
   "metadata": {},
   "outputs": [
    {
     "data": {
      "text/plain": [
       "10"
      ]
     },
     "execution_count": 158,
     "metadata": {},
     "output_type": "execute_result"
    }
   ],
   "source": [
    "date_new = []\n",
    "for i in y97to99:\n",
    "    html = urlopen(i).read()\n",
    "    soup = BeautifulSoup(html, features='lxml')\n",
    "    time = soup.find('i').get_text()\n",
    "    date_new.append(time)\n",
    "    \n",
    "len(date_new)"
   ]
  },
  {
   "cell_type": "code",
   "execution_count": 159,
   "metadata": {},
   "outputs": [
    {
     "data": {
      "text/plain": [
       "['Release Date: May 18, 1999',\n",
       " 'Release Date: June 30, 1999',\n",
       " 'Release Date: August 24, 1999',\n",
       " 'Release Date: October 5, 1999',\n",
       " 'Release Date: November 16, 1999',\n",
       " 'Release Date: December 21, 1999',\n",
       " 'Release Date: September 29, 1998',\n",
       " 'Release Date: November 17, 1998',\n",
       " 'Release Date: October 15, 1998',\n",
       " 'Release Date: March 25, 1997']"
      ]
     },
     "execution_count": 159,
     "metadata": {},
     "output_type": "execute_result"
    }
   ],
   "source": [
    "date_new"
   ]
  },
  {
   "cell_type": "code",
   "execution_count": 160,
   "metadata": {},
   "outputs": [
    {
     "data": {
      "text/plain": [
       "10"
      ]
     },
     "execution_count": 160,
     "metadata": {},
     "output_type": "execute_result"
    }
   ],
   "source": [
    "textnew = []\n",
    "for i in y97to99:\n",
    "    html = urlopen(i).read()\n",
    "    soup = BeautifulSoup(html, features='lxml')\n",
    "    s = soup.find('table', {'width':'600'})\n",
    "    s0 = s.find_all('p')\n",
    "    data0 = []\n",
    "    for text in s0:\n",
    "        data0.append(text.get_text('|', strip=True))\n",
    "    data0 = [''.join(data0[0:-1])]\n",
    "    textnew.extend(data0)\n",
    "len(textnew)"
   ]
  },
  {
   "cell_type": "markdown",
   "metadata": {},
   "source": [
    "## 1996"
   ]
  },
  {
   "cell_type": "code",
   "execution_count": 161,
   "metadata": {},
   "outputs": [
    {
     "data": {
      "text/plain": [
       "11"
      ]
     },
     "execution_count": 161,
     "metadata": {},
     "output_type": "execute_result"
    }
   ],
   "source": [
    "html = urlopen(\"https://www.federalreserve.gov/fomc/19960131DEFAULT.htm\").read()\n",
    "soup = BeautifulSoup(html, features='lxml')\n",
    "time = soup.find('i').get_text()\n",
    "date_new.append(time)\n",
    "len(date_new)"
   ]
  },
  {
   "cell_type": "code",
   "execution_count": 162,
   "metadata": {},
   "outputs": [
    {
     "data": {
      "text/plain": [
       "11"
      ]
     },
     "execution_count": 162,
     "metadata": {},
     "output_type": "execute_result"
    }
   ],
   "source": [
    "len(date_new)"
   ]
  },
  {
   "cell_type": "code",
   "execution_count": 163,
   "metadata": {},
   "outputs": [
    {
     "data": {
      "text/plain": [
       "11"
      ]
     },
     "execution_count": 163,
     "metadata": {},
     "output_type": "execute_result"
    }
   ],
   "source": [
    "s = soup.find('table', {'width':'600'})\n",
    "s0 = s.find_all('p')\n",
    "data0 = []\n",
    "for text in s0:\n",
    "    data0.append(text.get_text('|', strip=True))\n",
    "data0 = [''.join(data0[0:-1])]\n",
    "textnew.extend(data0)\n",
    "len(textnew)"
   ]
  },
  {
   "cell_type": "code",
   "execution_count": 164,
   "metadata": {},
   "outputs": [],
   "source": [
    "text_96 = [\"For immediate release The Federal Reserve today announced the following policy actions: The Board of Governors approved a reduction in the discount rate from 5-1/4 percent to 5 percent, effective immediately. In a related move, the Federal Open Market Committee agreed that the reduction would be reflected fully in interest rates in the reserve markets. This is expected to result in a reduction in the federal funds rate of 25 basis points, from about 5-1/2 percent to about 5-1/4 percent. Moderating economic expansion in recent months has reduced potential inflationary pressures going forward. With price and cost trends already subdued, a slight easing of monetary policy is consistent with contained inflation and sustainable growth. In taking the discount action, the Board approved requests submitted by the Boards of Directors of the Federal Reserve Banks of New York, Philadelphia, Cleveland, Atlanta, Minneapolis, and Dallas.\"]"
   ]
  },
  {
   "cell_type": "code",
   "execution_count": 165,
   "metadata": {},
   "outputs": [],
   "source": [
    "#year 1994 to 1995\n",
    "y94to95 = y1994 + y1995"
   ]
  },
  {
   "cell_type": "code",
   "execution_count": 166,
   "metadata": {},
   "outputs": [
    {
     "data": {
      "text/plain": [
       "20"
      ]
     },
     "execution_count": 166,
     "metadata": {},
     "output_type": "execute_result"
    }
   ],
   "source": [
    "for i in y94to95:\n",
    "    html = urlopen(i).read()\n",
    "    soup = BeautifulSoup(html, features='lxml')\n",
    "    time = soup.find('i').get_text()\n",
    "    date_new.append(time)\n",
    "    \n",
    "len(date_new)"
   ]
  },
  {
   "cell_type": "code",
   "execution_count": 167,
   "metadata": {},
   "outputs": [
    {
     "data": {
      "text/plain": [
       "20"
      ]
     },
     "execution_count": 167,
     "metadata": {},
     "output_type": "execute_result"
    }
   ],
   "source": [
    "\n",
    "for i in y94to95:\n",
    "    html = urlopen(i).read()\n",
    "    soup = BeautifulSoup(html, features='lxml')\n",
    "    s = soup.find('div', {'id':'content'})\n",
    "    s0 = s.find_all('p')\n",
    "    data0 = []\n",
    "    for text in s0:\n",
    "        data0.append(text.get_text('|', strip=True))\n",
    "    data0 = [''.join(data0[0:-1])]\n",
    "    textnew.extend(data0)\n",
    "len(textnew)"
   ]
  },
  {
   "cell_type": "code",
   "execution_count": 168,
   "metadata": {},
   "outputs": [],
   "source": [
    "import pandas as pd\n",
    "s = pd.Series(textnew, index = date_new)"
   ]
  },
  {
   "cell_type": "code",
   "execution_count": 119,
   "metadata": {},
   "outputs": [
    {
     "data": {
      "text/plain": [
       "['While the FOMC did not take action today to alter the stance of monetary policy, the Committee was concerned about the potential for a buildup of inflationary imbalances that could undermine the favorable performance of the economy and therefore adopted a directive that is tilted toward the possibility of a  firming in the stance of monetary policy.  Trend increases in costs and core prices have generally remained quite subdued.  But domestic financial markets have recovered and foreign economic prospects have improved since the easing of monetary policy last fall.  Against the background of already-tight domestic labor markets and ongoing strength in demand in excess of productivity gains, the Committee recognizes the need to be alert to developments over coming months that might indicate that financial conditions may no longer be consistent with containing inflation.']"
      ]
     },
     "execution_count": 119,
     "metadata": {},
     "output_type": "execute_result"
    }
   ],
   "source": [
    "html = urlopen(\"https://www.federalreserve.gov/boarddocs/press/general/1999/19990518/\").read()\n",
    "soup = BeautifulSoup(html, features='lxml')\n",
    "date_0518 = soup.find('i').get_text()\n",
    "\n",
    "s = soup.find('body', {'bgcolor':'#FFFFFF'})\n",
    "s0 = s.find_all('p')\n",
    "text_0518 = []\n",
    "for text in s0:\n",
    "    text_0518.append(text.get_text('|', strip=True))\n",
    "text_0518 = [''.join(text_0518[0:-1])]\n",
    "#textnew.extend(data0)\n",
    "#len(textnew)\n",
    "text_0518"
   ]
  },
  {
   "cell_type": "code",
   "execution_count": 176,
   "metadata": {},
   "outputs": [
    {
     "data": {
      "text/plain": [
       "20"
      ]
     },
     "execution_count": 176,
     "metadata": {},
     "output_type": "execute_result"
    }
   ],
   "source": [
    "revised_time = ['18-May-1999', '30-Jun-1999', '24-Aug-1999', '5-Oct-1999', '21-Dec-1999', '29-Dec-1999',\n",
    "               '29-Sep-1998', '17-Nov-1998', '15-Oct-1998',\n",
    "                '25-Mar-1997', '31-Jan-1996',\n",
    "               '4-Feb-1994', '22-Mar-1994', '18-Apr-1994', '17-May-1994', '16-Aug-1994', '15-Nov-1994',\n",
    "               '1-Feb-1995', '6-Jul-1995', '19-Dec-1995']\n",
    "len(revised_time)"
   ]
  },
  {
   "cell_type": "code",
   "execution_count": 192,
   "metadata": {},
   "outputs": [],
   "source": [
    "raw_dict = dict(zip(revised_time, textnew)) "
   ]
  },
  {
   "cell_type": "code",
   "execution_count": 194,
   "metadata": {},
   "outputs": [],
   "source": [
    "raw_dict['31-Jan-1996'] = text_96[0]\n",
    "raw_dict['18-May-1999'] = text_0518[0]"
   ]
  },
  {
   "cell_type": "code",
   "execution_count": 201,
   "metadata": {},
   "outputs": [],
   "source": [
    "#output the data to csv / text\n",
    "import csv\n",
    "\n",
    "w = csv.writer(open(\"FedTextData.csv\", \"a\"))\n",
    "for key, val in raw_dict.items():\n",
    "    w.writerow([key, val])"
   ]
  },
  {
   "cell_type": "code",
   "execution_count": null,
   "metadata": {},
   "outputs": [],
   "source": []
  },
  {
   "cell_type": "code",
   "execution_count": null,
   "metadata": {},
   "outputs": [],
   "source": []
  },
  {
   "cell_type": "code",
   "execution_count": null,
   "metadata": {},
   "outputs": [],
   "source": []
  }
 ],
 "metadata": {
  "kernelspec": {
   "display_name": "Python 3",
   "language": "python",
   "name": "python3"
  },
  "language_info": {
   "codemirror_mode": {
    "name": "ipython",
    "version": 3
   },
   "file_extension": ".py",
   "mimetype": "text/x-python",
   "name": "python",
   "nbconvert_exporter": "python",
   "pygments_lexer": "ipython3",
   "version": "3.6.10"
  }
 },
 "nbformat": 4,
 "nbformat_minor": 2
}
