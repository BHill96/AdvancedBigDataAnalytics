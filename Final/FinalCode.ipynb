{
  "nbformat": 4,
  "nbformat_minor": 0,
  "metadata": {
    "colab": {
      "name": "FinalCode.ipynb",
      "provenance": [],
      "private_outputs": true,
      "collapsed_sections": [],
      "machine_shape": "hm",
      "authorship_tag": "ABX9TyNT0VJ9Lxh2R/wH5hfm1n15",
      "include_colab_link": true
    },
    "kernelspec": {
      "name": "python3",
      "display_name": "Python 3"
    },
    "accelerator": "GPU"
  },
  "cells": [
    {
      "cell_type": "markdown",
      "metadata": {
        "id": "view-in-github",
        "colab_type": "text"
      },
      "source": [
        "<a href=\"https://colab.research.google.com/github/BHill96/AdvancedBigDataAnalytics/blob/master/Final/FinalCode.ipynb\" target=\"_parent\"><img src=\"https://colab.research.google.com/assets/colab-badge.svg\" alt=\"Open In Colab\"/></a>"
      ]
    },
    {
      "cell_type": "code",
      "metadata": {
        "id": "hi26TaTEr6WD",
        "colab_type": "code",
        "colab": {}
      },
      "source": [
        "# Download necessary packages\n",
        "!pip install transformers\n",
        "!pip install xelatex\n",
        "# This takes a couple minutes\n",
        "!apt-get install texlive texlive-xetex texlive-latex-extra pandoc"
      ],
      "execution_count": 0,
      "outputs": []
    },
    {
      "cell_type": "code",
      "metadata": {
        "id": "MYz8vV1Wr7VG",
        "colab_type": "code",
        "colab": {}
      },
      "source": [
        "# Download Code\n",
        "! git clone https://github.com/BHill96/AdvancedBigDataAnalytics.git"
      ],
      "execution_count": 0,
      "outputs": []
    },
    {
      "cell_type": "code",
      "metadata": {
        "id": "cApKwt867P0Z",
        "colab_type": "code",
        "colab": {}
      },
      "source": [
        "# Move to Final directory\n",
        "cd AdvancedBigDataAnalytics/Final"
      ],
      "execution_count": 0,
      "outputs": []
    },
    {
      "cell_type": "code",
      "metadata": {
        "id": "nhlDuiHr9joa",
        "colab_type": "code",
        "colab": {}
      },
      "source": [
        "import XLNetFed\n",
        "from pandas import read_csv\n",
        "import pandas as pd\n",
        "import numpy as np\n",
        "from google.colab import files"
      ],
      "execution_count": 0,
      "outputs": []
    },
    {
      "cell_type": "code",
      "metadata": {
        "id": "pr3s2fq0-RM_",
        "colab_type": "code",
        "colab": {}
      },
      "source": [
        "%%time\n",
        "# # # # # # # # # #\n",
        "# numSims # hours #\n",
        "#    1    #   1   #\n",
        "#    10   #   10  #\n",
        "# # # # # # # # # #\n",
        "DIR = 'Data/'\n",
        "results = []\n",
        "numSims = 1\n",
        "text = read_csv(DIR+'FedTextData.csv', names=['Date','Text'])\n",
        "for fileName in ['GDPC1.csv', 'MICH.csv', 'liborfinal.csv', 'UNRATENSA.csv']:\n",
        "    # Load data and calculate sentiment\n",
        "    if fileName == 'liborfinal.csv':\n",
        "        mType = 'Daily'\n",
        "    else:\n",
        "        mType = 'Monthly'\n",
        "    data = XLNetFed.CalcSentiment(text, read_csv(DIR+fileName), metricType=mType)\n",
        "    for ml, bs in zip([64, 128, 256], [48, 24, 8]):\n",
        "        # Create masks\n",
        "        inpt, attMsk = XLNetFed.TextPrep(data, MAX_LEN=ml)\n",
        "        for epoch in [10, 15, 20]:\n",
        "            # Print simulation info\n",
        "            print('File: {0}\\nMAX_LEN: {1}\\nbatch_size: {2}\\nEpochs: {3}'.format(fileName, ml, bs, epoch))\n",
        "            for i in range(0,numSims):\n",
        "                print('{0} of {1}:'.format(i, numSims))\n",
        "                _, _, acc = XLNetFed.Train(inpt, attMsk, list(data.Econ_Perf), batch_size=bs, epochs=epoch)\n",
        "                results.append((fileName, ml, bs, epoch, acc))\n",
        "    # Side affect of CalcSentiment\n",
        "    text = text.drop(labels='index', axis=1)\n",
        "\n",
        "results = pd.DataFrame(results, columns=['File','MAX_LEN','batch_size','Epochs','Accuracy'])\n",
        "results = results.groupby(['File','MAX_LEN','batch_size','Epochs']).agg([np.mean, np.std]).reset_index()\n",
        "results.to_csv(DIR+'SentimentTests.csv')\n",
        "files.download('Data/SentimentTests.csv') "
      ],
      "execution_count": 0,
      "outputs": []
    },
    {
      "cell_type": "code",
      "metadata": {
        "id": "2gWn0yesURxZ",
        "colab_type": "code",
        "colab": {}
      },
      "source": [
        "import matplotlib.pyplot as plt\n",
        "\"\"\"\n",
        "import matplotlib as mpl\n",
        "params = {'pgf.texsystem': 'xelatex'}\n",
        "mpl.rcParams.update(params)\n",
        "\"\"\"\n",
        "import matplotlib.ticker as ticker\n",
        "from mpl_toolkits.axes_grid.parasite_axes import SubplotHost\n",
        "from copy import deepcopy"
      ],
      "execution_count": 0,
      "outputs": []
    },
    {
      "cell_type": "code",
      "metadata": {
        "id": "LUX_SpTDaRUz",
        "colab_type": "code",
        "colab": {}
      },
      "source": [
        "x = list(map(str, results.Epochs))\n",
        "y = results.Accuracy['mean']\n",
        "if numSims == 1:\n",
        "    yerr = None\n",
        "else:\n",
        "    yerr = results.Accuracy['std']\n",
        "\n",
        "FileLabels = np.unique(results.File)\n",
        "MLLabels = list(map(str, np.unique(results.MAX_LEN)))\n",
        "BSLabels = list(map(str, np.unique(results.batch_size)))\n",
        "MLBSLabels = ['('+ml+', '+bs+')' for ml, bs in zip(MLLabels, BSLabels[::-1])]\n",
        "tmpLabel = deepcopy(MLBSLabels)\n",
        "for _ in range(0, len(FileLabels)-1):\n",
        "    for mlbs in tmpLabel:\n",
        "        MLBSLabels.append(mlbs)\n",
        "\n",
        "fig1 = plt.figure(figsize=(15,15))\n",
        "ax1 = SubplotHost(fig1, 111)\n",
        "fig1.add_subplot(ax1)\n",
        "     \n",
        "# Epochs\n",
        "ax1.bar(np.arange(0, len(x), step=1) ,y ,yerr=yerr)\n",
        "ax1.set_xticks(results.index)\n",
        "ax1.set_xticklabels(x)\n",
        "ax1.yaxis.set_label_text('Accuracy')\n",
        "\n",
        "# MAX_LEN and Batch size\n",
        "ax2 = ax1.twiny()\n",
        "offset = 0, -25 # Position of the second axis\n",
        "new_axisline = ax2.get_grid_helper().new_fixed_axis\n",
        "ax2.axis[\"bottom\"] = new_axisline(loc=\"bottom\", axes=ax2, offset=offset)\n",
        "ax2.axis[\"top\"].set_visible(False)\n",
        "ax2.set_xticks([0,1])\n",
        "ax2.xaxis.set_major_formatter(ticker.NullFormatter())\n",
        "ax2.xaxis.set_minor_locator(ticker.FixedLocator(np.linspace(0.08, 1, len(MLBSLabels)+1)))\n",
        "ax2.xaxis.set_minor_formatter(ticker.FixedFormatter(MLBSLabels))\n",
        "\n",
        "# Files\n",
        "ax3 = ax1.twiny()\n",
        "offset = 0, -50 # Position of the second axis\n",
        "new_axisline = ax3.get_grid_helper().new_fixed_axis\n",
        "ax3.axis[\"bottom\"] = new_axisline(loc=\"bottom\", axes=ax3, offset=offset)\n",
        "ax3.axis[\"top\"].set_visible(False)\n",
        "ax3.set_xticks([0,1])\n",
        "ax3.xaxis.set_major_formatter(ticker.NullFormatter())\n",
        "ax3.xaxis.set_minor_locator(ticker.FixedLocator(np.linspace(0.16, 1.08, len(FileLabels)+1)))\n",
        "ax3.xaxis.set_minor_formatter(ticker.FixedFormatter(FileLabels))\n",
        "\n",
        "ax1.grid(1, axis='y')\n",
        "plt.title('Accuracy per File, Max String Length, Batch Size, and Epochs\\n (number of tests per parameter set: {0})'.format(numSims))\n",
        "plt.savefig(fname='ParameterSims.pdf')\n",
        "# plt.savefig(fname='ParameterSims.pgf')\n",
        "plt.show()\n",
        "files.download('ParameterSims.pdf')\n",
        "# files.download('ParameterSims.pgf') "
      ],
      "execution_count": 0,
      "outputs": []
    },
    {
      "cell_type": "code",
      "metadata": {
        "id": "hH40mshTiInE",
        "colab_type": "code",
        "colab": {}
      },
      "source": [
        ""
      ],
      "execution_count": 0,
      "outputs": []
    }
  ]
}